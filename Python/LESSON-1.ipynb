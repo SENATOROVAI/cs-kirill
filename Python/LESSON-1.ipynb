{
 "cells": [
  {
   "cell_type": "code",
   "execution_count": null,
   "metadata": {},
   "outputs": [],
   "source": [
    "\n",
    "algoritms Pull requestsst\n",
    "fork-клонирование чуужого репизитория в свой личный аккаунт гит забаcloneоto PCси - нажимаем на три куга слева , потом три точки и нажимаем на кнопку клон \n",
    "edite  file \n",
    "commet (три круга )\n",
    "нажимаем на три точки push \n",
    "заходим в гит хаб full request \n",
    "\n",
    "\n",
    "git config --global user.email \"kirya_stepanov_03@bk.ru\"\n",
    "git config --global user.name \"Stepanov278\"\n",
    "\n",
    "\n",
    "number:int = 1# otion shift f \n",
    "\n",
    "black- linter\n",
    "linter- инструмент анализ и поиск ашибок согласно pep 8 \n",
    "mypy- анализ анотации типов \n",
    " \n",
    "\n"
   ]
  }
 ],
 "metadata": {
  "language_info": {
   "name": "python"
  }
 },
 "nbformat": 4,
 "nbformat_minor": 2
}
