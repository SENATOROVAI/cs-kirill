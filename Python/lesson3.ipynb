{
 "cells": [
  {
   "cell_type": "code",
   "execution_count": null,
   "metadata": {},
   "outputs": [],
   "source": [
    "\"\"\"Write lesson3.\"\"\""
   ]
  },
  {
   "cell_type": "code",
   "execution_count": null,
   "metadata": {},
   "outputs": [],
   "source": [
    "# алгоритм работы с чужим проектом\n",
    "# 1. fork операция клонирования чужого\n",
    "# репазитория в свой личный аккаунт гитхаба\n",
    "# 2. клонировать форкнутый репазиторий\n",
    "# на пк при помощи кошки или вс кода\n",
    "# 3. вносим правки, так же проверяем\n",
    "# на mypy  и  black  и проверям что\n",
    "# выбрана ветка девелопер\n",
    "# 4. делаем коммит и в\n",
    "# название пишем что мы сделали\n",
    "# 5. пуш\n",
    "# 6. заходим в гитхаб и делаем пулл реквест"
   ]
  },
  {
   "cell_type": "code",
   "execution_count": null,
   "metadata": {},
   "outputs": [],
   "source": [
    "# ОТЛИЧИЕ гит от гитхаба\n",
    "# гит(консльная утилита)-локальгая\n",
    "# система контролий версий нужно для\n",
    "# отслеживания измениения файла и истории,\n",
    "# клиент гита в вс коде это слево три кружочка\n",
    "\n",
    "# гитхаб-это заб где мы публикуем гит\n",
    "# , тоесть наш проект со всей историей\n",
    "\n",
    "# гит эт"
   ]
  },
  {
   "cell_type": "code",
   "execution_count": null,
   "metadata": {},
   "outputs": [],
   "source": [
    "# трасировка-в зависимости от контексат\n",
    "# пошаговое управление программы\n",
    "# с остановкой на каждом этаапе\n",
    "# трасировка ошибок - инструмент для окладки\n",
    "# кода , метод отслеживания ошибок (выкидываются ошибки в терминале)\n",
    "\n",
    "# опшин шифт ф автоформатируешься по стандарту pep8"
   ]
  },
  {
   "cell_type": "code",
   "execution_count": null,
   "metadata": {},
   "outputs": [],
   "source": [
    "# Линтер (от англ. слова lint) – статический анализатор\n",
    "# кода, который указывает на “подозрительные”\n",
    "# участки программы и тем самым помогает\n",
    "# программисту писать более качественный код"
   ]
  },
  {
   "cell_type": "markdown",
   "metadata": {},
   "source": []
  },
  {
   "cell_type": "markdown",
   "metadata": {},
   "source": [
    "Основные типы данных в Python\n",
    "В Python существует несколько основных типов данных:\n",
    "\n",
    "Числовые типы:\n",
    "\n",
    "int: целое число (например, 1, 2, 3)\n",
    "float: число с плавающей запятой (например, 1.2, 3.14)\n",
    "complex: комплексное число (например, 1+2j, 3-4j)\n",
    "Строковые типы:\n",
    "\n",
    "str: текстовая строка (например, \"Hello, world!\")\n",
    "Логические типы:\n",
    "\n",
    "bool: логическое значение (True или False)\n",
    "Структурные типы:\n",
    "\n",
    "list: упорядоченный список элементов (например, [1, 2, 3, \"hello\"])\n",
    "tuple: неизменяемый упорядоченный список элементов (например, (1, 2, 3, \"hello\"))\n",
    "dict: словарь, состоящий из пар ключ-значение (например, {\"name\": \"John\", \"age\": 30})\n",
    "set: неупорядоченное множество уникальных элементов (например, {1, 2, 3, \"hello\"})\n",
    "Другие типы:\n",
    "\n",
    "None: значение None\n",
    "bytes: массив байтов\n",
    "datetime: дата и время"
   ]
  },
  {
   "cell_type": "code",
   "execution_count": 4,
   "metadata": {},
   "outputs": [],
   "source": [
    "number21: int = 1"
   ]
  },
  {
   "cell_type": "code",
   "execution_count": 3,
   "metadata": {},
   "outputs": [
    {
     "data": {
      "text/plain": [
       "int"
      ]
     },
     "execution_count": 3,
     "metadata": {},
     "output_type": "execute_result"
    }
   ],
   "source": [
    "type(number21)  # type это \"функция\" которая показывает тип данных"
   ]
  },
  {
   "cell_type": "code",
   "execution_count": null,
   "metadata": {},
   "outputs": [],
   "source": [
    "number23: int = 1  # двоеточие тип данных-анотация типов"
   ]
  },
  {
   "cell_type": "code",
   "execution_count": null,
   "metadata": {},
   "outputs": [],
   "source": [
    "проверить файл на анотацию типов это mypy пробел  название файла "
   ]
  },
  {
   "cell_type": "code",
   "execution_count": null,
   "metadata": {},
   "outputs": [],
   "source": [
    "black пробел name file проверить файл на пеп 8 "
   ]
  },
  {
   "cell_type": "code",
   "execution_count": 5,
   "metadata": {},
   "outputs": [
    {
     "data": {
      "text/plain": [
       "5"
      ]
     },
     "execution_count": 5,
     "metadata": {},
     "output_type": "execute_result"
    }
   ],
   "source": [
    "# 89 // 15"
   ]
  },
  {
   "cell_type": "code",
   "execution_count": 6,
   "metadata": {},
   "outputs": [
    {
     "data": {
      "text/plain": [
       "5"
      ]
     },
     "execution_count": 6,
     "metadata": {},
     "output_type": "execute_result"
    }
   ],
   "source": [
    "# 45 // 8"
   ]
  },
  {
   "cell_type": "code",
   "execution_count": 7,
   "metadata": {},
   "outputs": [
    {
     "data": {
      "text/plain": [
       "0.33"
      ]
     },
     "execution_count": 7,
     "metadata": {},
     "output_type": "execute_result"
    }
   ],
   "source": [
    "# round(1 / 3, 2)"
   ]
  },
  {
   "cell_type": "code",
   "execution_count": 8,
   "metadata": {},
   "outputs": [],
   "source": []
  }
 ],
 "metadata": {
  "kernelspec": {
   "display_name": "base",
   "language": "python",
   "name": "python3"
  },
  "language_info": {
   "codemirror_mode": {
    "name": "ipython",
    "version": 3
   },
   "file_extension": ".py",
   "mimetype": "text/x-python",
   "name": "python",
   "nbconvert_exporter": "python",
   "pygments_lexer": "ipython3",
   "version": "3.11.7"
  }
 },
 "nbformat": 4,
 "nbformat_minor": 2
}
