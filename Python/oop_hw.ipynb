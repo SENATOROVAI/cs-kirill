{
 "cells": [
  {
   "cell_type": "code",
   "execution_count": null,
   "metadata": {},
   "outputs": [],
   "source": [
    "\"\"\"Создай класс Car.\n",
    "\n",
    "Создай метод start_engine, который будет \n",
    "выводить сообщение “Двигатель запущен”.\n",
    "Создай метод stop_engine, который будет\n",
    "выводить сообщение “Двигатель остановлен”.\n",
    "создай атрибуты brand, model и year\n",
    "после создания объекта и присвой\n",
    "им значения. Эти атрибуты должны инициализироваться\n",
    "НЕ при создании объекта класса, а после\n",
    "создания объекта класса\n",
    "Создай объект класса Car и вызовите\n",
    "его методы. \n",
    "Создай объект2 класса Car и вызовите\n",
    "его методы с новыми значениями\n",
    "Создай новый класс в котором инициализация\n",
    "данных будет сразу при создании объекта.\n",
    "\"\"\""
   ]
  },
  {
   "cell_type": "code",
   "execution_count": 1,
   "metadata": {},
   "outputs": [
    {
     "name": "stdout",
     "output_type": "stream",
     "text": [
      "Двигатель запущен\n",
      "Двигатель остановлен\n",
      "Carry\n",
      "XXX\n"
     ]
    }
   ],
   "source": [
    "# class CarInit:\n",
    "\n",
    "#     def start_engine(self):\n",
    "# явно первым подается параметр self\\имя объекта\n",
    "#         return \"Двигатель запущен\"\n",
    "\n",
    "#     def stop_engine(self):  #\n",
    "#         return \"Двигатель остановлен\"\n",
    "\n",
    "# car_object = CarInit()\n",
    "\n",
    "# car_object.brand = \"Toyota\"  #\n",
    "# car_object.model = \"Carry\"  #\n",
    "# car_object.year = 2000\n",
    "\n",
    "# car_second_object = CarInit()\n",
    "\n",
    "# car_second_object.brand = \"Volvo\"\n",
    "# car_second_object.model = \"XXX\"\n",
    "# car_second_object.year = 1988\n",
    "\n",
    "# # при вызове метода неявно первым\n",
    "# подается параметр self\\имя объекта\n",
    "# print(car_object.start_engine())\n",
    "# print(car_object.stop_engine())\n",
    "# print(car_object.model)\n",
    "# print(car_second_object.model)"
   ]
  },
  {
   "cell_type": "code",
   "execution_count": 3,
   "metadata": {},
   "outputs": [
    {
     "name": "stdout",
     "output_type": "stream",
     "text": [
      "Марка первого автомобиля: Toyota\n",
      "Модель второго автомобиля: XC90\n",
      "Двигатель запущен\n",
      "Двигатель остановлен\n"
     ]
    }
   ],
   "source": [
    "# Все магические методы вызываются атоматически\n",
    "# при наступлении определенного события.\n",
    "# Например __init__ - вызывается при создании объекта\n",
    "\n",
    "\n",
    "class Car:\n",
    "    \"\"\"Класс для представления автомобиля.\"\"\"\n",
    "\n",
    "    def __init__(self, brand_: str, model_: str, year_: int) -> None:\n",
    "        \"\"\"Инициализация объекта Car.\n",
    "\n",
    "        Args:\n",
    "            brand (str): Марка автомобиля.\n",
    "            model (str): Модель автомобиля.\n",
    "            year (int): Год выпуска автомобиля.\n",
    "        \"\"\"\n",
    "        self.brand = brand_\n",
    "        self.model = model_\n",
    "        self.year = year_\n",
    "\n",
    "    def start_engine(self) -> str:\n",
    "        \"\"\"Запуск двигателя.\n",
    "\n",
    "        Returns:\n",
    "            str: Сообщение о запуске двигателя.\n",
    "        \"\"\"\n",
    "        return \"Двигатель запущен\"\n",
    "\n",
    "    def stop_engine(self) -> str:\n",
    "        \"\"\"Остановка двигателя.\n",
    "\n",
    "        Returns:\n",
    "            str: Сообщение об остановке двигателя.\n",
    "        \"\"\"\n",
    "        return \"Двигатель остановлен\"\n",
    "\n",
    "\n",
    "# Создание объектов Car\n",
    "car_object = Car(brand_=\"Toyota\", model_=\"Camry\", year_=2020)\n",
    "car_second_object = Car(brand_=\"Volvo\", model_=\"XC90\", year_=2023)\n",
    "\n",
    "# Доступ к атрибутам\n",
    "print(f\"Марка первого автомобиля: {car_object.brand}\")\n",
    "print(f\"Модель второго автомобиля: {car_second_object.model}\")\n",
    "\n",
    "# Вызов методов\n",
    "print(car_object.start_engine())\n",
    "print(car_object.stop_engine())"
   ]
  }
 ],
 "metadata": {
  "kernelspec": {
   "display_name": "Python 3",
   "language": "python",
   "name": "python3"
  },
  "language_info": {
   "codemirror_mode": {
    "name": "ipython",
    "version": 3
   },
   "file_extension": ".py",
   "mimetype": "text/x-python",
   "name": "python",
   "nbconvert_exporter": "python",
   "pygments_lexer": "ipython3",
   "version": "3.11.4"
  }
 },
 "nbformat": 4,
 "nbformat_minor": 2
}
