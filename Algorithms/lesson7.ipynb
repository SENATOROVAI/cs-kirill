{
 "cells": [
  {
   "cell_type": "code",
   "execution_count": 1,
   "metadata": {},
   "outputs": [
    {
     "data": {
      "text/plain": [
       "'7 урок.'"
      ]
     },
     "execution_count": 1,
     "metadata": {},
     "output_type": "execute_result"
    }
   ],
   "source": [
    "\"\"\"7 урок.\"\"\""
   ]
  },
  {
   "cell_type": "code",
   "execution_count": 2,
   "metadata": {},
   "outputs": [
    {
     "name": "stdout",
     "output_type": "stream",
     "text": [
      "HI\n"
     ]
    }
   ],
   "source": [
    "num1_input = int(input(\"write: num1\"))\n",
    "num2_input = int(input(\"write: num2\"))\n",
    "\n",
    "# переменные объявленные вне функции это глоальные области global scope\n",
    "# перремнные из global scope видны в теле функции\n",
    "# global_var = \"HI\"\n",
    "\n",
    "\n",
    "def sum_number(num1: int = 0, num2: int = 0) -> int:\n",
    "    \"\"\"\n",
    "    функция складывает два числа.\n",
    "\n",
    "    num1: int = \"0\",\n",
    "    num2: int = \"0\" параметры по умолчанию,\n",
    "    если при вызове функции не передаем\n",
    "    параметры то им присваивается значение 0.\n",
    "    \"\"\"\n",
    "    result = num1 + num2\n",
    "\n",
    "    return result\n",
    "    # print(test1)\n",
    "    # переменная объявлена в локальном scope или в локальной области видимости\n",
    "    # не видна в global scope\n",
    "    # local_var = \"HI\"\n",
    "\n",
    "\n",
    "# sum_number()\n",
    "# print(test2)\n",
    "\n",
    "print(sum_number(num1_input, num2_input))\n",
    "# print(test1)"
   ]
  },
  {
   "cell_type": "code",
   "execution_count": 6,
   "metadata": {},
   "outputs": [],
   "source": [
    "total_sum_digits = sum_number(num1_input, num2_input)\n",
    "# result = None"
   ]
  },
  {
   "cell_type": "code",
   "execution_count": 7,
   "metadata": {},
   "outputs": [
    {
     "name": "stdout",
     "output_type": "stream",
     "text": [
      "3\n"
     ]
    }
   ],
   "source": [
    "print(total_sum_digits)"
   ]
  },
  {
   "cell_type": "code",
   "execution_count": null,
   "metadata": {},
   "outputs": [],
   "source": [
    "# type(input()) # функция тайп показывает какого типа наш объект"
   ]
  }
 ],
 "metadata": {
  "kernelspec": {
   "display_name": "Python 3",
   "language": "python",
   "name": "python3"
  },
  "language_info": {
   "codemirror_mode": {
    "name": "ipython",
    "version": 3
   },
   "file_extension": ".py",
   "mimetype": "text/x-python",
   "name": "python",
   "nbconvert_exporter": "python",
   "pygments_lexer": "ipython3",
   "version": "3.9.6"
  }
 },
 "nbformat": 4,
 "nbformat_minor": 2
}
