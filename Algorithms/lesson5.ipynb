{
 "cells": [
  {
   "cell_type": "code",
   "execution_count": null,
   "metadata": {},
   "outputs": [],
   "source": [
    "в данном lesson \n",
    "\n",
    "\n",
    "узнали что такое интепритатор строки . для чего он нужен \n",
    "вызывали функцию, узнали что такое звезда , как не ограниченное кол во данных вывести , в функции принт \n",
    "  "
   ]
  }
 ],
 "metadata": {
  "language_info": {
   "name": "python"
  }
 },
 "nbformat": 4,
 "nbformat_minor": 2
}
