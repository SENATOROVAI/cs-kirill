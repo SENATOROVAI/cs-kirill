{
 "cells": [
  {
   "cell_type": "code",
   "execution_count": null,
   "metadata": {},
   "outputs": [],
   "source": [
    "\"\"\"урок 15.\"\"\""
   ]
  },
  {
   "cell_type": "code",
   "execution_count": null,
   "metadata": {},
   "outputs": [],
   "source": [
    "\"\"\"lesson 15 \n",
    "разобрали рекурсию #     if n == 0:\n",
    "#         return 1\n",
    "#     return n * reverse_digits(n - 1)\n",
    "\n",
    "прорешали задачу с экхамена таск 1.1 \n",
    "def reverse_digits(n: int) -> int:\n",
    "    \"\"\"\n",
    "    Рекурсивная функция, реверсивно выводящая цифры числа n.\n",
    "\n",
    "    Args:\n",
    "        n: Неотрицательное целое число.\n",
    "\n",
    "    Returns:\n",
    "            None. Функция выводит результат в виде побочного эффекта.\n",
    "    \"\"\"\n",
    "    # базовый случай \n",
    "    if n < 10:\n",
    "        print(n)\n",
    "    else:\n",
    "        # находим последнюю цифру \n",
    "        last_digits = n % 10\n",
    "        # вывожу последнюю цифру\n",
    "        print(last_digits)\n",
    "        # рекурсивно вызываем функцию, переходим к следующей цифре \n",
    "        return reverse_digits(n // 10)\n",
    "\n",
    "# принимаем число \n",
    "number:int = int(input(\"write:>\"))\n",
    "# вызов функции  \n",
    "# передача ключевых аргументов \n",
    "print(reverse_digits(n=number))\n",
    "+ подредактикровали некоторые ошибки через гит хаб"
   ]
  }
 ],
 "metadata": {
  "language_info": {
   "name": "python"
  }
 },
 "nbformat": 4,
 "nbformat_minor": 2
}
