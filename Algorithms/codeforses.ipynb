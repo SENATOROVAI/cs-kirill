{
 "cells": [
  {
   "cell_type": "code",
   "execution_count": null,
   "metadata": {},
   "outputs": [],
   "source": [
    "\"\"\" модуль для codeforces https://codeforces.com/problemset/problem/4/A.\"\"\""
   ]
  },
  {
   "cell_type": "code",
   "execution_count": null,
   "metadata": {},
   "outputs": [],
   "source": [
    "user = int(input())\n",
    "if user > 2 and user % 2 == 0:\n",
    "    print(\"YES\")\n",
    "else:\n",
    "    print(\"NO\")"
   ]
  },
  {
   "cell_type": "code",
   "execution_count": null,
   "metadata": {},
   "outputs": [],
   "source": [
    "print('YNEOS'[5%~int(input())%2::2]) #помогите разобрать решение \n",
    "\n",
    "int(input())` - программа ожидает ввода числа с клавиатуры и преобразует его в целое число.\n",
    "2. `~int(input())` - преобразует введенное число в его бинарное дополнение (побитовое отрицание).\n",
    "3. `5%~int(input())%2` - берет остаток от деления числа 5 на результат операции в пункте 2 и затем берет остаток от деления этого результата на 2.\n",
    "4. `::2` - является синтаксисом срезов последовательностей в Python. Он указывает, что нужно вернуть элементы из среза с шагом 2.\n",
    "5. `print('YNEOS'[5%~int(input())%2::2])` - выводит символы из строки 'YNEOS' в зависимости от результата операции из пункта 3. Если результат равен 1, то выводятся символы с нечетными индексами (Y, E, S), если результат равен 0, то выводятся символы с четными индексами (N, O)."
   ]
  },
  {
   "cell_type": "code",
   "execution_count": null,
   "metadata": {},
   "outputs": [],
   "source": [
    "w = int(input())\n",
    "if w % 2 == 0 and w > 2:\n",
    "    print(\"YES\")\n",
    "else:\n",
    "    print(\"NO\")"
   ]
  }
 ],
 "metadata": {
  "language_info": {
   "name": "python"
  }
 },
 "nbformat": 4,
 "nbformat_minor": 2
}
