{
 "cells": [
  {
   "cell_type": "code",
   "execution_count": 10,
   "metadata": {},
   "outputs": [
    {
     "data": {
      "text/plain": [
       "'Hello world'"
      ]
     },
     "execution_count": 10,
     "metadata": {},
     "output_type": "execute_result"
    }
   ],
   "source": [
    "def Hello(string: str) -> str:\n",
    "    \"\"\"\n",
    "    чтобы вызвать функцию нужно название функции + круглые скобки\n",
    "    \"\"\"\n",
    "    return f\"Hello {string}\"  # ф стринг, нужна чтобы подставить в строку перемнную\n",
    "\n",
    "\n",
    "WORD_STRING = \"HELLO\"  # определение перемнной , присвоение значения\n",
    "\n",
    "# Hello(\"world\") # hello название функции\n",
    "Hello(WORD_STRING)\n",
    "\n",
    "# \"hello world\" - str\n",
    "# 1 - int\n",
    "\n",
    "# hi = \"hello world\"\n",
    "\n",
    "# type(\"\")\n",
    "# type('')\n",
    "#\n",
    "# string = \"world\"\n",
    "# print(f\"Hello {string}\")"
   ]
  },
  {
   "cell_type": "code",
   "execution_count": 40,
   "metadata": {},
   "outputs": [
    {
     "data": {
      "text/plain": [
       "4"
      ]
     },
     "execution_count": 40,
     "metadata": {},
     "output_type": "execute_result"
    }
   ],
   "source": [
    "def multi(number: int) -> int:\n",
    "    # просто выводит на жкран , но не возращает значение из функции\n",
    "    # return None # если отстуствует инструкция ретерн , то не явно прописывается ретерн none\n",
    "    return number**2\n",
    "\n",
    "\n",
    "multi(2)"
   ]
  },
  {
   "cell_type": "code",
   "execution_count": 41,
   "metadata": {},
   "outputs": [],
   "source": [
    "c  # функция не передает значения переснной , а просто выводит значение на экран"
   ]
  },
  {
   "cell_type": "code",
   "execution_count": 42,
   "metadata": {},
   "outputs": [
    {
     "name": "stdout",
     "output_type": "stream",
     "text": [
      "9\n"
     ]
    }
   ],
   "source": [
    "print(get_value)"
   ]
  },
  {
   "cell_type": "code",
   "execution_count": null,
   "metadata": {},
   "outputs": [],
   "source": [
    "multi(2)\n",
    "print(get_value)"
   ]
  },
  {
   "cell_type": "code",
   "execution_count": null,
   "metadata": {},
   "outputs": [],
   "source": []
  },
  {
   "cell_type": "code",
   "execution_count": null,
   "metadata": {},
   "outputs": [],
   "source": []
  }
 ],
 "metadata": {
  "kernelspec": {
   "display_name": "Python 3",
   "language": "python",
   "name": "python3"
  },
  "language_info": {
   "codemirror_mode": {
    "name": "ipython",
    "version": 3
   },
   "file_extension": ".py",
   "mimetype": "text/x-python",
   "name": "python",
   "nbconvert_exporter": "python",
   "pygments_lexer": "ipython3",
   "version": "3.9.6"
  }
 },
 "nbformat": 4,
 "nbformat_minor": 2
}
