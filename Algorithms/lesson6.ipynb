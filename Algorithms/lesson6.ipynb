{
 "cells": [
  {
   "cell_type": "code",
   "execution_count": null,
   "metadata": {},
   "outputs": [],
   "source": [
    "\"\"\"модуль по 6 уроку.\"\"\""
   ]
  },
  {
   "cell_type": "code",
   "execution_count": 10,
   "metadata": {},
   "outputs": [
    {
     "data": {
      "text/plain": [
       "'Hello world'"
      ]
     },
     "execution_count": 10,
     "metadata": {},
     "output_type": "execute_result"
    }
   ],
   "source": [
    "def hello_world(string: str) -> str:\n",
    "    \"\"\"чтобы вызвать функцию нужно название функции + круглые скобки.\"\"\"\n",
    "    return f\"Hello {string}\"  # ф стринг,нужна\n",
    "\n",
    "\n",
    "# чтобы подставить в строку перемнную\n",
    "\n",
    "\n",
    "WORD_STRING = \"HELLO\"  # определение перемнной,\n",
    "# присвоение значения\n",
    "# Hello(\"world\") # hello название функции\n",
    "\n",
    "\n",
    "hello_world(WORD_STRING)\n",
    "\n",
    "# \"hello world\" - str\n",
    "# 1 - int\n",
    "# hi = \"hello world\"\n",
    "# type(\"\")\n",
    "# type('')\n",
    "# string = \"world\"\n",
    "# print(f\"Hello {string}\")"
   ]
  },
  {
   "cell_type": "markdown",
   "metadata": {},
   "source": [
    "модуль в питоне это файл с расширением .py или ipynb то есть обычный файл питона , "
   ]
  },
  {
   "cell_type": "code",
   "execution_count": 2,
   "metadata": {},
   "outputs": [
    {
     "data": {
      "text/plain": [
       "4"
      ]
     },
     "execution_count": 2,
     "metadata": {},
     "output_type": "execute_result"
    }
   ],
   "source": [
    "def multi_21(number: int) -> int:\n",
    "    \"\"\"функция возводит число в квадрат.\"\"\"\n",
    "    # просто выводит на жкран , но не возращает значение из функции\n",
    "    # return None\n",
    "    # еслитстуствуетнструкция ретерно не явно прописывается ретерн none\n",
    "    return number**2\n",
    "\n",
    "\n",
    "multi_21(2)"
   ]
  },
  {
   "cell_type": "code",
   "execution_count": null,
   "metadata": {},
   "outputs": [],
   "source": []
  }
 ],
 "metadata": {
  "kernelspec": {
   "display_name": "Python 3",
   "language": "python",
   "name": "python3"
  },
  "language_info": {
   "codemirror_mode": {
    "name": "ipython",
    "version": 3
   },
   "file_extension": ".py",
   "mimetype": "text/x-python",
   "name": "python",
   "nbconvert_exporter": "python",
   "pygments_lexer": "ipython3",
   "version": "3.9.6"
  }
 },
 "nbformat": 4,
 "nbformat_minor": 2
}
