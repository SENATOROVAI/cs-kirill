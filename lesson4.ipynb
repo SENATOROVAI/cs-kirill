{
 "cells": [
  {
   "cell_type": "code",
   "execution_count": null,
   "metadata": {},
   "outputs": [],
   "source": [
    "\n",
    "ограничение по времени -time complexety (временная сложность ) измеряется в кол во шагов, операциитипов процеесора \n",
    "\n",
    "присовение сложение \\то одна операция \n",
    "мы считаем это с помощью рам модели(абстрактное модель вычисления) \n",
    "space complexety (ограничение по памяти , пространсвенная сложность) \n",
    "example создание переменной, списков, на это выделяется память \n",
    "\n",
    "нам не важно на сколько большое значение в пермееной потому что питон "
   ]
  },
  {
   "cell_type": "code",
   "execution_count": null,
   "metadata": {},
   "outputs": [],
   "source": [
    "работа с железом подразумевает работу с памятью компьютера \n",
    "\n",
    "только низкоуровнеые + с подобные "
   ]
  },
  {
   "cell_type": "code",
   "execution_count": null,
   "metadata": {},
   "outputs": [],
   "source": [
    "питон имеет   динамической строгой типизацией, значит что при создании перемнной мы не указываем тип данных и размер выделяемой памяти \n"
   ]
  },
  {
   "cell_type": "markdown",
   "metadata": {},
   "source": [
    "number:long=1000000"
   ]
  },
  {
   "cell_type": "code",
   "execution_count": null,
   "metadata": {},
   "outputs": [],
   "source": []
  }
 ],
 "metadata": {
  "language_info": {
   "name": "python"
  }
 },
 "nbformat": 4,
 "nbformat_minor": 2
}
