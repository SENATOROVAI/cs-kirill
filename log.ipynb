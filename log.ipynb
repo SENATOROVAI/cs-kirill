{
 "cells": [
  {
   "cell_type": "code",
   "execution_count": null,
   "metadata": {},
   "outputs": [],
   "source": [
    "\"\"\"Write modul1.\"\"\""
   ]
  },
  {
   "cell_type": "code",
   "execution_count": null,
   "metadata": {},
   "outputs": [],
   "source": [
    "19.04.24 \n",
    "научились пользоваться гит хаб , вносить редакцию и отправлять ее , в вскоде научились отсылать , принимать домашку\n",
    "форк-клонированиечужого репозитория себе \n",
    "пул реквест - предложение внести изменения в репозиторий \n",
    "добавить в ибранное "
   ]
  },
  {
   "cell_type": "markdown",
   "metadata": {},
   "source": []
  },
  {
   "cell_type": "code",
   "execution_count": null,
   "metadata": {},
   "outputs": [],
   "source": [
    "20.04 \n",
    "на занятии регались на тестах, завтра начну их воркать \n",
    "\n",
    "конъюкцию на питоне фалсе и труе \n",
    "\n",
    "деление умножение по модулю деление были освоены \n",
    "\n",
    "да и впринципе больше нечего сказать ахахах"
   ]
  },
  {
   "cell_type": "code",
   "execution_count": null,
   "metadata": {},
   "outputs": [],
   "source": []
  }
 ],
 "metadata": {
  "language_info": {
   "name": "python"
  }
 },
 "nbformat": 4,
 "nbformat_minor": 2
}
